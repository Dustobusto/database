{
 "cells": [
  {
   "cell_type": "code",
   "execution_count": 224,
   "metadata": {
    "collapsed": true
   },
   "outputs": [],
   "source": [
    "import pyodbc \n",
    "import pandas as pd\n",
    "\n",
    "cnxn = pyodbc.connect(\"Driver={SQL Server Native Client 11.0};\"\n",
    "                      \"Server=OTOPSW02;\"\n",
    "                      \"Database=PW-OTO;\"\n",
    "                      \"Trusted_Connection=yes;\")\n",
    "\n",
    "\n",
    "# df = pd.read_sql_query(\"SELECT DISTINCT * FROM dbo.Dim_Item WHERE ItemID = '89' AND Date = '20190818' AND ModeID = 'A'\", cnxn)\n",
    "df = pd.read_sql_query(\"SELECT DISTINCT * FROM dbo.Dim_Item\", cnxn)"
   ]
  },
  {
   "cell_type": "code",
   "execution_count": 214,
   "metadata": {
    "collapsed": true
   },
   "outputs": [],
   "source": [
    "cnxn2 = pyodbc.connect(\"Driver={SQL Server Native Client 11.0};\"\n",
    "                      \"Server=OTOPSW02;\"\n",
    "                      \"Database=PW-OTO;\"\n",
    "                      \"Trusted_Connection=yes;\")\n",
    "\n",
    "sql = \"\"\"\\\n",
    "SELECT Day\n",
    "\n",
    "\n",
    "FROM dbo.Dim_Day\n",
    "GROUP BY SiteID\n",
    "\"\"\"\n",
    "\n",
    "sql2 = \"\"\"\\\n",
    "SELECT DISTINCT Label\n",
    "FROM dbo.Dim_ItemSite\n",
    "\"\"\"\n",
    "\n",
    "\n",
    "\n",
    "df2 = pd.read_sql_query(sql2, cnxn2)"
   ]
  },
  {
   "cell_type": "code",
   "execution_count": 227,
   "metadata": {
    "collapsed": true
   },
   "outputs": [],
   "source": [
    "df.to_excel('excelfile.xlsx')"
   ]
  },
  {
   "cell_type": "code",
   "execution_count": 65,
   "metadata": {
    "collapsed": true
   },
   "outputs": [],
   "source": [
    "df2.to_csv(r'C:\\Users\\dknudsen\\Documents\\Dim_Site_Label.csv')"
   ]
  },
  {
   "cell_type": "code",
   "execution_count": 174,
   "metadata": {
    "collapsed": false
   },
   "outputs": [
    {
     "name": "stdout",
     "output_type": "stream",
     "text": [
      "497718.00879999984\n"
     ]
    }
   ],
   "source": [
    "iSum = 0\n",
    "for i in df2['Amt']:\n",
    "    iSum += i\n",
    "print(iSum)"
   ]
  }
 ],
 "metadata": {
  "kernelspec": {
   "display_name": "Python 3",
   "language": "python",
   "name": "python3"
  },
  "language_info": {
   "codemirror_mode": {
    "name": "ipython",
    "version": 3
   },
   "file_extension": ".py",
   "mimetype": "text/x-python",
   "name": "python",
   "nbconvert_exporter": "python",
   "pygments_lexer": "ipython3",
   "version": "3.6.0"
  }
 },
 "nbformat": 4,
 "nbformat_minor": 2
}
